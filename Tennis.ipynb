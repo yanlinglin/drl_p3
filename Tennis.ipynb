{
 "cells": [
  {
   "cell_type": "markdown",
   "metadata": {},
   "source": [
    "# Collaboration and Competition\n",
    "\n",
    "---\n",
    "\n",
    "In this notebook, you will learn how to use the Unity ML-Agents environment for the third project of the [Deep Reinforcement Learning Nanodegree](https://www.udacity.com/course/deep-reinforcement-learning-nanodegree--nd893) program.\n",
    "\n",
    "### 1. Start the Environment\n",
    "\n",
    "We begin by importing the necessary packages.  If the code cell below returns an error, please revisit the project instructions to double-check that you have installed [Unity ML-Agents](https://github.com/Unity-Technologies/ml-agents/blob/master/docs/Installation.md) and [NumPy](http://www.numpy.org/)."
   ]
  },
  {
   "cell_type": "code",
   "execution_count": 1,
   "metadata": {},
   "outputs": [],
   "source": [
    "from unityagents import UnityEnvironment\n",
    "import numpy as np"
   ]
  },
  {
   "cell_type": "markdown",
   "metadata": {},
   "source": [
    "Next, we will start the environment!  **_Before running the code cell below_**, change the `file_name` parameter to match the location of the Unity environment that you downloaded.\n",
    "\n",
    "- **Mac**: `\"path/to/Tennis.app\"`\n",
    "- **Windows** (x86): `\"path/to/Tennis_Windows_x86/Tennis.exe\"`\n",
    "- **Windows** (x86_64): `\"path/to/Tennis_Windows_x86_64/Tennis.exe\"`\n",
    "- **Linux** (x86): `\"path/to/Tennis_Linux/Tennis.x86\"`\n",
    "- **Linux** (x86_64): `\"path/to/Tennis_Linux/Tennis.x86_64\"`\n",
    "- **Linux** (x86, headless): `\"path/to/Tennis_Linux_NoVis/Tennis.x86\"`\n",
    "- **Linux** (x86_64, headless): `\"path/to/Tennis_Linux_NoVis/Tennis.x86_64\"`\n",
    "\n",
    "For instance, if you are using a Mac, then you downloaded `Tennis.app`.  If this file is in the same folder as the notebook, then the line below should appear as follows:\n",
    "```\n",
    "env = UnityEnvironment(file_name=\"Tennis.app\")\n",
    "```"
   ]
  },
  {
   "cell_type": "code",
   "execution_count": 2,
   "metadata": {},
   "outputs": [
    {
     "name": "stderr",
     "output_type": "stream",
     "text": [
      "INFO:unityagents:\n",
      "'Academy' started successfully!\n",
      "Unity Academy name: Academy\n",
      "        Number of Brains: 1\n",
      "        Number of External Brains : 1\n",
      "        Lesson number : 0\n",
      "        Reset Parameters :\n",
      "\t\t\n",
      "Unity brain name: TennisBrain\n",
      "        Number of Visual Observations (per agent): 0\n",
      "        Vector Observation space type: continuous\n",
      "        Vector Observation space size (per agent): 8\n",
      "        Number of stacked Vector Observation: 3\n",
      "        Vector Action space type: continuous\n",
      "        Vector Action space size (per agent): 2\n",
      "        Vector Action descriptions: , \n"
     ]
    }
   ],
   "source": [
    "env = UnityEnvironment(file_name=\"Tennis.app\")"
   ]
  },
  {
   "cell_type": "markdown",
   "metadata": {},
   "source": [
    "Environments contain **_brains_** which are responsible for deciding the actions of their associated agents. Here we check for the first brain available, and set it as the default brain we will be controlling from Python."
   ]
  },
  {
   "cell_type": "code",
   "execution_count": 3,
   "metadata": {},
   "outputs": [],
   "source": [
    "# get the default brain\n",
    "brain_name = env.brain_names[0]\n",
    "brain = env.brains[brain_name]"
   ]
  },
  {
   "cell_type": "markdown",
   "metadata": {},
   "source": [
    "### 2. Examine the State and Action Spaces\n",
    "\n",
    "In this environment, two agents control rackets to bounce a ball over a net. If an agent hits the ball over the net, it receives a reward of +0.1.  If an agent lets a ball hit the ground or hits the ball out of bounds, it receives a reward of -0.01.  Thus, the goal of each agent is to keep the ball in play.\n",
    "\n",
    "The observation space consists of 8 variables corresponding to the position and velocity of the ball and racket. Two continuous actions are available, corresponding to movement toward (or away from) the net, and jumping. \n",
    "\n",
    "Run the code cell below to print some information about the environment."
   ]
  },
  {
   "cell_type": "code",
   "execution_count": 4,
   "metadata": {},
   "outputs": [
    {
     "name": "stdout",
     "output_type": "stream",
     "text": [
      "Number of agents: 2\n",
      "Size of each action: 2\n",
      "There are 2 agents. Each observes a state with length: 24\n",
      "The state for the first agent looks like: [ 0.          0.          0.          0.          0.          0.\n",
      "  0.          0.          0.          0.          0.          0.\n",
      "  0.          0.          0.          0.         -6.65278625 -1.5\n",
      " -0.          0.          6.83172083  6.         -0.          0.        ]\n"
     ]
    }
   ],
   "source": [
    "# reset the environment\n",
    "env_info = env.reset(train_mode=True)[brain_name]\n",
    "\n",
    "# number of agents \n",
    "num_agents = len(env_info.agents)\n",
    "print('Number of agents:', num_agents)\n",
    "\n",
    "# size of each action\n",
    "action_size = brain.vector_action_space_size\n",
    "print('Size of each action:', action_size)\n",
    "\n",
    "# examine the state space \n",
    "states = env_info.vector_observations\n",
    "state_size = states.shape[1]\n",
    "print('There are {} agents. Each observes a state with length: {}'.format(states.shape[0], state_size))\n",
    "print('The state for the first agent looks like:', states[0])"
   ]
  },
  {
   "cell_type": "markdown",
   "metadata": {},
   "source": [
    "### 3. Take Random Actions in the Environment\n",
    "\n",
    "In the next code cell, you will learn how to use the Python API to control the agents and receive feedback from the environment.\n",
    "\n",
    "Once this cell is executed, you will watch the agents' performance, if they select actions at random with each time step.  A window should pop up that allows you to observe the agents.\n",
    "\n",
    "Of course, as part of the project, you'll have to change the code so that the agents are able to use their experiences to gradually choose better actions when interacting with the environment!"
   ]
  },
  {
   "cell_type": "code",
   "execution_count": 5,
   "metadata": {},
   "outputs": [
    {
     "data": {
      "text/plain": [
       "array([[ 0.        ,  0.        ,  0.        ,  0.        ,  0.        ,\n",
       "         0.        ,  0.        ,  0.        ,  0.        ,  0.        ,\n",
       "         0.        ,  0.        ,  0.        ,  0.        ,  0.        ,\n",
       "         0.        , -6.4669857 , -1.5       ,  0.        ,  0.        ,\n",
       "        -6.83172083,  6.        ,  0.        ,  0.        ]])"
      ]
     },
     "execution_count": 5,
     "metadata": {},
     "output_type": "execute_result"
    }
   ],
   "source": [
    "states[1,np.newaxis]"
   ]
  },
  {
   "cell_type": "code",
   "execution_count": 6,
   "metadata": {},
   "outputs": [
    {
     "name": "stdout",
     "output_type": "stream",
     "text": [
      "Score (max over agents) from episode 1: 0.0\n",
      "Score (max over agents) from episode 2: 0.0\n",
      "Score (max over agents) from episode 3: 0.0\n",
      "Score (max over agents) from episode 4: 0.0\n",
      "Score (max over agents) from episode 5: 0.0\n"
     ]
    }
   ],
   "source": [
    "for i in range(1, 6):                                      # play game for 5 episodes\n",
    "    env_info = env.reset(train_mode=False)[brain_name]     # reset the environment    \n",
    "    states = env_info.vector_observations                  # get the current state (for each agent)\n",
    "    scores = np.zeros(num_agents)                          # initialize the score (for each agent)\n",
    "    while True:\n",
    "        actions = np.random.randn(num_agents, action_size) # select an action (for each agent)\n",
    "        actions = np.clip(actions, -1, 1)                  # all actions between -1 and 1\n",
    "        env_info = env.step(actions)[brain_name]           # send all actions to tne environment\n",
    "        next_states = env_info.vector_observations         # get next state (for each agent)\n",
    "        rewards = env_info.rewards                         # get reward (for each agent)\n",
    "        dones = env_info.local_done                        # see if episode finished\n",
    "        scores += env_info.rewards                         # update the score (for each agent)\n",
    "        states = next_states                               # roll over states to next time step\n",
    "        if np.any(dones):                                  # exit loop if episode finished\n",
    "            break\n",
    "    print('Score (max over agents) from episode {}: {}'.format(i, np.max(scores)))"
   ]
  },
  {
   "cell_type": "markdown",
   "metadata": {},
   "source": [
    "When finished, you can close the environment."
   ]
  },
  {
   "cell_type": "markdown",
   "metadata": {},
   "source": [
    "### 4. It's Your Turn!\n",
    "\n",
    "Now it's your turn to train your own agent to solve the environment!  When training the environment, set `train_mode=True`, so that the line for resetting the environment looks like the following:\n",
    "```python\n",
    "env_info = env.reset(train_mode=True)[brain_name]\n",
    "```"
   ]
  },
  {
   "cell_type": "code",
   "execution_count": 7,
   "metadata": {},
   "outputs": [],
   "source": [
    "import random\n",
    "import torch\n",
    "import numpy as np\n",
    "from collections import deque\n",
    "import matplotlib.pyplot as plt\n",
    "%matplotlib inline\n",
    "\n",
    "from maddpg_agent import MAagent"
   ]
  },
  {
   "cell_type": "code",
   "execution_count": 8,
   "metadata": {},
   "outputs": [],
   "source": [
    "def MA_ddpg(n_episodes=10000, max_t=1000, print_every=10,random_seed=2, noise_scalar_init=2.0, noise_reduction_factor=0.99, num_agents=num_agents,update_every=1, \\\n",
    "         actor_fc1_units=400, actor_fc2_units=300,\\\n",
    "         critic_fcs1_units=400, critic_fc2_units=300,\\\n",
    "         gamma=0.99, tau=1e-3,lr_actor=1e-4, lr_critic=1e-3, weight_decay=0,\\\n",
    "         mu=0., theta=0.15, sigma=0.2):\n",
    "    maddpg_agents = MAagent(state_size=state_size, action_size=action_size, random_seed=random_seed,\\\n",
    "                            noise_scalar_init=noise_scalar_init,noise_reduction_factor=noise_reduction_factor, num_agents=num_agents,\\\n",
    "                            update_every=update_every, actor_fc1_units=actor_fc1_units, actor_fc2_units=actor_fc2_units,\\\n",
    "                            critic_fcs1_units=critic_fcs1_units, critic_fc2_units=critic_fc2_units,gamma=gamma, tau=tau, \\\n",
    "                            lr_actor=lr_actor, lr_critic=lr_critic,\\\n",
    "                            weight_decay=weight_decay,mu=mu, theta=theta, sigma=sigma)\n",
    "    scores_deque = deque(maxlen=100)\n",
    "    scores = []\n",
    "    time_stamp = 0\n",
    "    for i_episode in range(1, n_episodes+1):\n",
    "        env_info = env.reset(train_mode=True)[brain_name]\n",
    "        states = env_info.vector_observations\n",
    "        for i in range(num_agents):\n",
    "            maddpg_agents.agents[i].reset()\n",
    "        score = np.zeros(num_agents)\n",
    "        for t in range(max_t):\n",
    "            actions = maddpg_agents.act(states)\n",
    "            env_info = env.step(actions)[brain_name]           # send all actions to tne environment\n",
    "            next_states = env_info.vector_observations         # get next state (for each agent)\n",
    "            rewards = env_info.rewards                         # get reward (for each agent)\n",
    "            dones = env_info.local_done                        # see if episode finished\n",
    "            \n",
    "            maddpg_agents.step(states, actions, rewards, next_states, dones)\n",
    "            score += rewards                         # update the score (for each agent)\n",
    "            states = next_states                               # roll over states to next time step\n",
    "            time_stamp+=1\n",
    "            if np.any(dones):\n",
    "                break \n",
    "        scores_deque.append(np.max(score))\n",
    "        scores.append(np.max(score))\n",
    "        print('\\rEpisode {}\\tAverage Score: {:.2f}'.format(i_episode, np.mean(scores_deque)), end=\"\")\n",
    "        for i in range(num_agents):\n",
    "            torch.save(maddpg_agents.agents[i].actor_local.state_dict(), str(i)+'checkpoint_actor.pth')\n",
    "            torch.save(maddpg_agents.agents[i].critic_local.state_dict(),str(i)+'checkpoint_critic.pth')\n",
    "        if i_episode % print_every == 0:\n",
    "            print('\\rEpisode {}\\tAverage Score: {:.2f}'.format(i_episode, np.mean(scores_deque)))\n",
    "        if np.mean(scores_deque)>=0.5:\n",
    "            print('\\nEnvironment solved in {:d} episodes!\\tAverage100 Score: {:.2f}'.format(i_episode-100, np.mean(scores_deque)))\n",
    "            for i in range(num_agents):\n",
    "                torch.save(maddpg_agents.agents[i].actor_local.state_dict(), str(i)+'actor_checkpoint.pth')\n",
    "                torch.save(maddpg_agents.agents[i].critic_local.state_dict(),str(i)+'critic_checkpoint.pth')\n",
    "            break    \n",
    "    return scores"
   ]
  },
  {
   "cell_type": "code",
   "execution_count": 9,
   "metadata": {},
   "outputs": [],
   "source": [
    "def plot_score(scores):\n",
    "    fig = plt.figure()\n",
    "    ax = fig.add_subplot(111)\n",
    "    plt.plot(np.arange(1, len(scores)+1), scores)\n",
    "    plt.ylabel('Score')\n",
    "    plt.xlabel('Episode #')\n",
    "    plt.show()"
   ]
  },
  {
   "cell_type": "code",
   "execution_count": 10,
   "metadata": {},
   "outputs": [
    {
     "name": "stdout",
     "output_type": "stream",
     "text": [
      "\n",
      "\n",
      "Test try #1: base line\n",
      "Episode 100\tAverage Score: 0.00\n",
      "Episode 200\tAverage Score: 0.00\n",
      "Episode 300\tAverage Score: 0.00\n",
      "Episode 400\tAverage Score: 0.01\n",
      "Episode 500\tAverage Score: 0.00\n",
      "Episode 600\tAverage Score: 0.02\n",
      "Episode 700\tAverage Score: 0.00\n",
      "Episode 800\tAverage Score: 0.02\n",
      "Episode 900\tAverage Score: 0.04\n",
      "Episode 1000\tAverage Score: 0.05\n",
      "Episode 1100\tAverage Score: 0.05\n",
      "Episode 1200\tAverage Score: 0.06\n",
      "Episode 1300\tAverage Score: 0.05\n",
      "Episode 1400\tAverage Score: 0.06\n",
      "Episode 1500\tAverage Score: 0.05\n",
      "Episode 1600\tAverage Score: 0.04\n",
      "Episode 1700\tAverage Score: 0.05\n",
      "Episode 1800\tAverage Score: 0.05\n",
      "Episode 1900\tAverage Score: 0.05\n",
      "Episode 2000\tAverage Score: 0.06\n",
      "Episode 2100\tAverage Score: 0.05\n",
      "Episode 2200\tAverage Score: 0.06\n",
      "Episode 2300\tAverage Score: 0.07\n",
      "Episode 2400\tAverage Score: 0.07\n",
      "Episode 2500\tAverage Score: 0.07\n",
      "Episode 2600\tAverage Score: 0.09\n",
      "Episode 2700\tAverage Score: 0.10\n",
      "Episode 2800\tAverage Score: 0.12\n",
      "Episode 2900\tAverage Score: 0.13\n",
      "Episode 3000\tAverage Score: 0.26\n",
      "Episode 3100\tAverage Score: 0.41\n",
      "Episode 3126\tAverage Score: 0.51\n",
      "Environment solved in 3026 episodes!\tAverage100 Score: 0.51\n"
     ]
    },
    {
     "data": {
      "image/png": "[encoded data removed]",
      "text/plain": [
       "<Figure size 432x288 with 1 Axes>"
      ]
     },
     "metadata": {
      "needs_background": "light"
     },
     "output_type": "display_data"
    },
    {
     "name": "stdout",
     "output_type": "stream",
     "text": [
      "CPU times: user 1h 53min 36s, sys: 28min 9s, total: 2h 21min 45s\n",
      "Wall time: 1h 17min 18s\n"
     ]
    }
   ],
   "source": [
    "%%time\n",
    "print(\"\\n\\nTest try #1: base line\")\n",
    "scores = MA_ddpg(n_episodes=10000, max_t=1000, print_every=100,random_seed=2, num_agents=num_agents,update_every=2,\\\n",
    "         actor_fc1_units=200, actor_fc2_units=150,\\\n",
    "         critic_fcs1_units=400, critic_fc2_units=300,\\\n",
    "         gamma=0.99, tau=1e-2,lr_actor=1e-4, lr_critic=1e-3, weight_decay=0,\\\n",
    "         mu=0., theta=0.15, sigma=0.2)\n",
    "plot_score(scores)"
   ]
  },
  {
   "cell_type": "code",
   "execution_count": 23,
   "metadata": {},
   "outputs": [],
   "source": [
    "# load the weights from file\n",
    "def let_agent_play():\n",
    "    for i in range(num_agents):\n",
    "        maddpg_agents.agents[i].actor_local.load_state_dict(torch.load(str(i)+'checkpoint_actor.pth'))\n",
    "        maddpg_agents.agents[i].critic_local.load_state_dict(torch.load(str(i)+'checkpoint_critic.pth'))\n",
    "    max_t=1000\n",
    "    play_episodes=100\n",
    "    play_scores = []                        # list containing scores from each episode\n",
    "    play_scores_window = deque(maxlen=100)  # last 100 scores\n",
    "    for i_episode in range(1, play_episodes+1):\n",
    "        env_info = env.reset(train_mode=True)[brain_name]\n",
    "        states = env_info.vector_observations     \n",
    "        for agent in maddpg_agents.agents:\n",
    "            agent.reset()\n",
    "        score = np.zeros(num_agents)\n",
    "        for t in range(max_t):\n",
    "            actions = maddpg_agents.act(states)\n",
    "            env_info = env.step(actions)[brain_name]           # send all actions to tne environment\n",
    "            next_states = env_info.vector_observations         # get next state (for each agent)\n",
    "            rewards = env_info.rewards                         # get reward (for each agent)\n",
    "            dones = env_info.local_done                        # see if episode finished\n",
    "            score += rewards                         # update the score (for each agent)\n",
    "            states = next_states                               # roll over states to next time step\n",
    "            if np.any(dones):\n",
    "                break \n",
    "        play_scores_window.append(np.max(score))       # save most recent score\n",
    "        play_scores.append(np.max(score))              # save most recent score\n",
    "        print('\\rEpisode {}\\tAverage Score: {:.2f}'.format(i_episode, np.mean(play_scores_window)), end=\"\")\n",
    "        if i_episode % 100 == 0:\n",
    "            print('\\rEpisode {}\\tAverage Score: {:.2f}'.format(i_episode, np.mean(play_scores_window)))\n",
    "    return play_scores"
   ]
  },
  {
   "cell_type": "code",
   "execution_count": 25,
   "metadata": {},
   "outputs": [
    {
     "name": "stdout",
     "output_type": "stream",
     "text": [
      "Episode 100\tAverage Score: 0.58\n"
     ]
    },
    {
     "data": {
      "image/png": "[encoded data removed]",
      "text/plain": [
       "<Figure size 432x288 with 1 Axes>"
      ]
     },
     "metadata": {
      "needs_background": "light"
     },
     "output_type": "display_data"
    }
   ],
   "source": [
    "maddpg_agents = MAagent(state_size=state_size, action_size=action_size, \\\n",
    "                        noise_scalar_init=1.0, noise_reduction_factor=0.999,\\\n",
    "                            random_seed=2, num_agents=num_agents,update_every=2,\\\n",
    "         actor_fc1_units=200, actor_fc2_units=150,\\\n",
    "         critic_fcs1_units=400, critic_fc2_units=300,\\\n",
    "         gamma=0.99, tau=1e-2,lr_actor=1e-4, lr_critic=1e-3, weight_decay=0,\\\n",
    "         mu=0., theta=0.15, sigma=0.2)\n",
    "play_scores=let_agent_play()\n",
    "plot_score(play_scores)"
   ]
  },
  {
   "cell_type": "code",
   "execution_count": 26,
   "metadata": {},
   "outputs": [],
   "source": [
    "env.close()"
   ]
  },
  {
   "cell_type": "code",
   "execution_count": null,
   "metadata": {},
   "outputs": [],
   "source": []
  },
  {
   "cell_type": "code",
   "execution_count": null,
   "metadata": {},
   "outputs": [],
   "source": [
    "# code for debugging. \n",
    "\n",
    "# maddpg_agents = MAagent(state_size=state_size, action_size=action_size, random_seed=2,num_agents=num_agents)\n",
    "\n",
    "# actions=[maddpg_agents.maddpg_agents[i].act(states[i, np.newaxis]).flatten() for i in range(maddpg_agents.num_agents)]\n",
    "# np.array(actions)\n",
    "\n",
    "# for i in range(1, 129):                                      # play game for 5 episodes\n",
    "#     env_info = env.reset(train_mode=True)[brain_name]\n",
    "#     states = env_info.vector_observations     \n",
    "#     for i in range(num_agents):\n",
    "#         maddpg_agents.agents[i].reset()\n",
    "#     score = np.zeros(num_agents)\n",
    "#     actions = maddpg_agents.act(states)\n",
    "#     env_info = env.step(actions)[brain_name]           # send all actions to tne environment\n",
    "#     next_states = env_info.vector_observations         # get next state (for each agent)\n",
    "#     rewards = env_info.rewards                         # get reward (for each agent)\n",
    "#     rewards\n",
    "#     dones = env_info.local_done                        # see if episode finished\n",
    "#     maddpg_agents.step(states, actions, rewards, next_states, dones)\n",
    "\n",
    "# experiences = random.sample(maddpg_agents.memory.memory, k=2)\n",
    "# print(experiences)\n",
    "\n",
    "# obs = [torch.from_numpy(np.vstack([e.state[i] for e in experiences if e is not None])).float() for i in range(num_agents)]\n",
    "# states  = torch.from_numpy(np.vstack([e.state.flatten() for e in experiences if e is not None])).float() \n",
    "# actions = torch.from_numpy(np.vstack([e.action.flatten() for e in experiences if e is not None])).float()\n",
    "# rewards = [torch.from_numpy(np.vstack([e.reward[i] for e in experiences if e is not None])).float() \\\n",
    "#                    for i in range(num_agents)]\n",
    "# next_obs =  [torch.from_numpy(np.vstack([e.next_state[i] for e in experiences if e is not None])).float() \\\n",
    "#                      for i in range(num_agents)]\n",
    "# next_states = torch.from_numpy(np.vstack([e.next_state.flatten() for e in experiences if e is not None])).float()\n",
    "# dones = [torch.from_numpy(np.vstack([e.done[i] for e in experiences if e is not None]).astype(np.uint8)).float() for i in range(num_agents)]\n",
    "# experiences[0].reward\n",
    "\n",
    "# (obs, states, actions, rewards, next_obs, next_states, dones)=maddpg_agents.memory.sample()"
   ]
  }
 ],
 "metadata": {
  "kernelspec": {
   "display_name": "Python 3",
   "language": "python",
   "name": "python3"
  },
  "language_info": {
   "codemirror_mode": {
    "name": "ipython",
    "version": 3
   },
   "file_extension": ".py",
   "mimetype": "text/x-python",
   "name": "python",
   "nbconvert_exporter": "python",
   "pygments_lexer": "ipython3",
   "version": "3.6.10"
  }
 },
 "nbformat": 4,
 "nbformat_minor": 2
}
